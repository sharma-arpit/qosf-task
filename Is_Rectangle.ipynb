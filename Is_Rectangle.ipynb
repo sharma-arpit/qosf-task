{
 "cells": [
  {
   "cell_type": "markdown",
   "id": "44715481",
   "metadata": {},
   "source": [
    "### Task 2 Is Rectangle?"
   ]
  },
  {
   "cell_type": "markdown",
   "id": "a66192b6",
   "metadata": {},
   "source": [
    "In this task, we are given 4 integer numbers as input and are asked to verify if they represent a rectangle or not. For any 4 numbers to represent a rectangle opposite sides should be equal. So there should be 2 pairs of equal numbers. For example, if given numbers are 2, 3, 4, 5. We can not use any 2 numbers to represent the sides of a rectangle because none of them are equal. On the other hand, if the input is 2, 3, 2, 3, there are 2 pairs of equal numbers (2, 2) and (3, 3). For this task we will consider Square as a Rectangle as well. So if all sides are equal we will return True."
   ]
  },
  {
   "cell_type": "markdown",
   "id": "c136647f",
   "metadata": {},
   "source": [
    "We need to make a comparator for 2 numbers first. To compare any 2 numbers we will convert the numbers into the binary strings and compare there bits. For 2 numbers to be equal there binary strings will be equal to each other as well. For example, binary string for 8 is '1000' and if we compare this to 7 ('0111'), none of the bits match but if we compare it to another 8 there strings will match bit by bit."
   ]
  },
  {
   "cell_type": "markdown",
   "id": "b630e8e6",
   "metadata": {},
   "source": [
    "According to the Truth table of a CNOT gate given below, if the 2 Input are equal Output 2 is always 0 and when the 2 Input are different Output 2 is always 1.\n",
    "| Input 1 | Input 2 | Output 1 | Output 2 |\n",
    "|:-----|:-----|:------|:------|\n",
    "|0|0|0|0|\n",
    "|0|1|0|1|\n",
    "|1|0|1|1|\n",
    "|1|1|1|0|\n",
    "\n",
    "So we can use $\\text{CNOT}$ gate to compare any 2 bits. If we run a loop over the binary strings and use them as input to the Gate we can get the output for each bit comparison."
   ]
  },
  {
   "cell_type": "code",
   "execution_count": 1,
   "id": "a392f281",
   "metadata": {},
   "outputs": [],
   "source": [
    "from qiskit import QuantumCircuit, QuantumRegister, ClassicalRegister, execute\n",
    "from qiskit.providers.aer import QasmSimulator\n",
    "import math\n",
    "simulator = QasmSimulator()"
   ]
  },
  {
   "cell_type": "markdown",
   "id": "0d53d744",
   "metadata": {},
   "source": [
    "Below function represent the circuit to compare 2 bits just like given below and saves the output from the second qubit into classical bit $c0$.\n",
    "\n",
    "$$ \\text{CNOT}( |0\\rangle \\otimes |0\\rangle ) \\equiv |00\\rangle $$\n",
    "$$ \\text{CNOT}( |0\\rangle \\otimes |1\\rangle ) \\equiv |01\\rangle $$\n",
    "$$ \\text{CNOT}( |1\\rangle \\otimes |0\\rangle ) \\equiv |11\\rangle $$\n",
    "$$ \\text{CNOT}( |1\\rangle \\otimes |1\\rangle ) \\equiv |10\\rangle $$"
   ]
  },
  {
   "cell_type": "code",
   "execution_count": 2,
   "id": "b5fbd299",
   "metadata": {},
   "outputs": [],
   "source": [
    "def bit_comparator(bit1, bit2):\n",
    "    \n",
    "    circuit = QuantumCircuit(2, 1)\n",
    "    if str(bit1) == '1':\n",
    "        circuit.x(0)\n",
    "    if str(bit2) == '1':\n",
    "        circuit.x(1)\n",
    "    \n",
    "    circuit.cx(0, 1)\n",
    "\n",
    "    circuit.measure([1], [0])\n",
    "\n",
    "    return circuit"
   ]
  },
  {
   "cell_type": "code",
   "execution_count": 3,
   "id": "50eda4d6",
   "metadata": {},
   "outputs": [
    {
     "data": {
      "image/png": "[encoded data removed]",
      "text/plain": [
       "<Figure size 370.906x284.278 with 1 Axes>"
      ]
     },
     "execution_count": 3,
     "metadata": {},
     "output_type": "execute_result"
    }
   ],
   "source": [
    "bit_comparator('0', '1').draw('mpl')"
   ]
  },
  {
   "cell_type": "code",
   "execution_count": 4,
   "id": "b3b04432",
   "metadata": {},
   "outputs": [
    {
     "data": {
      "image/png": "[encoded data removed]",
      "text/plain": [
       "<Figure size 287.294x284.278 with 1 Axes>"
      ]
     },
     "execution_count": 4,
     "metadata": {},
     "output_type": "execute_result"
    }
   ],
   "source": [
    "bit_comparator('0', '0').draw('mpl')"
   ]
  },
  {
   "cell_type": "markdown",
   "id": "a567014a",
   "metadata": {},
   "source": [
    "Now, we will combine the multiple circuit of this kind and compare whole binary strings. And save the output of the second qubit of each unit in a classical bit.\n"
   ]
  },
  {
   "cell_type": "code",
   "execution_count": 5,
   "id": "57f67304",
   "metadata": {},
   "outputs": [],
   "source": [
    "def binary_comparator(value1, value2):\n",
    "    \"\"\"\n",
    "    Takes binary strings as an input. Designs a circuit using NOT and CNOT gate \n",
    "    to compare each bit of the number and returns it.\n",
    "    \"\"\"\n",
    "    \n",
    "    number_of_qubits = 2 * len(value1)\n",
    "    number_of_cqubits = len(value1)\n",
    "    \n",
    "    qreg_q = QuantumRegister(number_of_qubits, 'q')\n",
    "    creg_c = ClassicalRegister(number_of_cqubits, 'c')\n",
    "    circuit = QuantumCircuit(qreg_q, creg_c)\n",
    "\n",
    "    for i in range(0, number_of_cqubits):\n",
    "        if value1[i] == '1':\n",
    "            circuit.x(2*i)\n",
    "        \n",
    "        if value2[i] == '1':\n",
    "            circuit.x(qreg_q[2*i+1])\n",
    "        \n",
    "        circuit.cx(qreg_q[2*i], qreg_q[2*i+1])\n",
    "    \n",
    "    circuit.measure(list(range(1, number_of_qubits, 2)), list(range(number_of_cqubits)))\n",
    "    \n",
    "    return circuit"
   ]
  },
  {
   "cell_type": "markdown",
   "id": "05fcdc02",
   "metadata": {},
   "source": [
    "To prepare the input for this circuit we need to scan through the binary strings. If the 2 numbers are 2 $(|10\\rangle)$ and 3 $(|11\\rangle)$ then there combined state for this circuit will be as given below\n",
    "\n",
    "$$|q0q1\\rangle = |11\\rangle $$\n",
    "$$|q2q3\\rangle = |01\\rangle $$\n",
    "\n",
    "First bit of both binary strings and then second bit of both strings. There output will be stored in $c0$ and $c1$ respectively as below.\n",
    "\n",
    "$$c0c1 = 01$$"
   ]
  },
  {
   "cell_type": "code",
   "execution_count": 6,
   "id": "fd962a57",
   "metadata": {},
   "outputs": [
    {
     "data": {
      "image/png": "[encoded data removed]",
      "text/plain": [
       "<Figure size 454.719x451.5 with 1 Axes>"
      ]
     },
     "execution_count": 6,
     "metadata": {},
     "output_type": "execute_result"
    }
   ],
   "source": [
    "binary_comparator('10', '11').draw('mpl')"
   ]
  },
  {
   "cell_type": "markdown",
   "id": "b6b8baee",
   "metadata": {},
   "source": [
    "Similarily, in the below circuit we have,\n",
    "\n",
    "$$|q0q1\\rangle = |11\\rangle $$\n",
    "$$|q2q3\\rangle = |00\\rangle $$\n",
    "$$c0c1 = 00$$\n",
    "\n",
    "Output of the below circuit does not contain any 1's because both binary strings are exactly same."
   ]
  },
  {
   "cell_type": "code",
   "execution_count": 7,
   "id": "89916cf7",
   "metadata": {
    "scrolled": false
   },
   "outputs": [
    {
     "data": {
      "image/png": "[encoded data removed]",
      "text/plain": [
       "<Figure size 371.107x451.5 with 1 Axes>"
      ]
     },
     "execution_count": 7,
     "metadata": {},
     "output_type": "execute_result"
    }
   ],
   "source": [
    "binary_comparator('10', '10').draw('mpl')"
   ]
  },
  {
   "cell_type": "code",
   "execution_count": 8,
   "id": "c1d968d4",
   "metadata": {
    "scrolled": false
   },
   "outputs": [],
   "source": [
    "def compare_bits(value1, value2, bitwise=True):\n",
    "    \"\"\"\n",
    "    Execute the circuit to compare the bit values and returns the result\n",
    "    Parameter:\n",
    "    value1: binary string for side 1\n",
    "    value2: binary string for side 2\n",
    "    bitwise: option to choose the circuit, if True a new circuit will\n",
    "    be created for each bit otherwise whole circuit will be created at once\n",
    "    \"\"\"\n",
    "    \n",
    "    if bitwise:\n",
    "        result = []\n",
    "\n",
    "        for i in range(len(value1)):\n",
    "            \n",
    "            circuit = bit_comparator(value1[i], value2[i])\n",
    "            result.append(list(execute(circuit, backend=simulator, shots = 2**12).result().get_counts().keys())[0])\n",
    "\n",
    "    else:\n",
    "        circuit = binary_comparator(value1, value2)\n",
    "        result = list(execute(circuit, backend = simulator, shots = 2**12).result().get_counts().keys())[0]\n",
    "    \n",
    "    return result"
   ]
  },
  {
   "cell_type": "code",
   "execution_count": 9,
   "id": "7d31a05e",
   "metadata": {},
   "outputs": [],
   "source": [
    "def compare_sides(number1, number2, bitwise=True):\n",
    "    \"\"\"\n",
    "    Compare the numbers: number1, number2\n",
    "    \"\"\"\n",
    "    \n",
    "    # maximum number of bits required to encode sides\n",
    "    m = max(number1, number2)\n",
    "    size_value = math.floor(math.log2(m)) + 1\n",
    "\n",
    "    # convert the number to binary string\n",
    "    value1 = bin(number1)[2:].zfill(size_value)\n",
    "    value2 = bin(number2)[2:].zfill(size_value)\n",
    "    \n",
    "    # compare the sides\n",
    "    result = compare_bits(value1, value2, bitwise=bitwise)\n",
    "    \n",
    "    if '1' in result:\n",
    "        return 0\n",
    "    else:\n",
    "        return 1"
   ]
  },
  {
   "cell_type": "code",
   "execution_count": 10,
   "id": "d48613d1",
   "metadata": {
    "scrolled": true
   },
   "outputs": [
    {
     "data": {
      "text/plain": [
       "0"
      ]
     },
     "execution_count": 10,
     "metadata": {},
     "output_type": "execute_result"
    }
   ],
   "source": [
    "compare_sides(2, 20, bitwise=False)"
   ]
  },
  {
   "cell_type": "markdown",
   "id": "c06689c7",
   "metadata": {},
   "source": [
    "Now the basic functions are complete we can try few examples. If we want to compare 0 and 2, their binary strings will be '00' and '10' respectively. Now, there are 2 options either we compare the bits one by one like first bits of each '0' and '1' then the second bits of each '0' and '0' or we create a circuit which takes 4 bits as input and returns the comparison results. We will see each one by one.\n",
    "\n",
    "Lets compare the bits one by one first. Below is a circuit to compare 2 bits (0, 1) its output is saved as a classical bit. The circuit returns 0 if the 2 bits are equal otherwise 1."
   ]
  },
  {
   "cell_type": "code",
   "execution_count": 11,
   "id": "e0204e09",
   "metadata": {},
   "outputs": [
    {
     "name": "stdout",
     "output_type": "stream",
     "text": [
      "Output: ['1']\n"
     ]
    },
    {
     "data": {
      "image/png": "[encoded data removed]",
      "text/plain": [
       "<Figure size 370.906x284.278 with 1 Axes>"
      ]
     },
     "execution_count": 11,
     "metadata": {},
     "output_type": "execute_result"
    }
   ],
   "source": [
    "print(\"Output:\", compare_bits('0', '1'))\n",
    "bit_comparator('0', '1').draw('mpl')"
   ]
  },
  {
   "cell_type": "markdown",
   "id": "90e989d4",
   "metadata": {},
   "source": [
    "This circuit compares (0, 0) and the output can be seen as 0."
   ]
  },
  {
   "cell_type": "code",
   "execution_count": 12,
   "id": "df721c1b",
   "metadata": {},
   "outputs": [
    {
     "name": "stdout",
     "output_type": "stream",
     "text": [
      "Output: ['0']\n"
     ]
    },
    {
     "data": {
      "image/png": "[encoded data removed]",
      "text/plain": [
       "<Figure size 287.294x284.278 with 1 Axes>"
      ]
     },
     "execution_count": 12,
     "metadata": {},
     "output_type": "execute_result"
    }
   ],
   "source": [
    "print(\"Output:\", compare_bits('0', '0'))\n",
    "bit_comparator('0', '0').draw('mpl')"
   ]
  },
  {
   "cell_type": "markdown",
   "id": "390daaff",
   "metadata": {},
   "source": [
    "Now, we will see the example of a complete circuit. Below a circuit can be seen which takes 4 inputs $(q0, q1, q2, q3)$ and saves the input as a classical bits $(c0, c1)$. Output will be a string of 0's and 1's where 0 represent that the bit values at that index were same and 1 represent that they were different. So, if the 2 numbers are equal each bit of those 2 numbers will return 0 and the result will be a string of 0's otherwise we can say that the numbers are not equal to each other."
   ]
  },
  {
   "cell_type": "code",
   "execution_count": 13,
   "id": "21dd2548",
   "metadata": {},
   "outputs": [
    {
     "name": "stdout",
     "output_type": "stream",
     "text": [
      "Output: dict_keys(['01'])\n"
     ]
    },
    {
     "data": {
      "image/png": "[encoded data removed]",
      "text/plain": [
       "<Figure size 371.107x451.5 with 1 Axes>"
      ]
     },
     "execution_count": 13,
     "metadata": {},
     "output_type": "execute_result"
    }
   ],
   "source": [
    "circuit = binary_comparator('00', '10')\n",
    "result = execute(circuit, backend = simulator, shots = 2**12).result()\n",
    "print(\"Output:\", result.get_counts().keys())\n",
    "circuit.draw('mpl')"
   ]
  },
  {
   "cell_type": "markdown",
   "id": "4deaedf3",
   "metadata": {},
   "source": [
    "In this example, we can see that comparison of '10' and '10' returns a string '00'. They both represent 3."
   ]
  },
  {
   "cell_type": "code",
   "execution_count": 14,
   "id": "f1aeed23",
   "metadata": {},
   "outputs": [
    {
     "name": "stdout",
     "output_type": "stream",
     "text": [
      "Output: dict_keys(['00'])\n"
     ]
    },
    {
     "data": {
      "image/png": "[encoded data removed]",
      "text/plain": [
       "<Figure size 371.107x451.5 with 1 Axes>"
      ]
     },
     "execution_count": 14,
     "metadata": {},
     "output_type": "execute_result"
    }
   ],
   "source": [
    "circuit = binary_comparator('10', '10')\n",
    "result = execute(circuit, backend = QasmSimulator(), shots = 2**12).result()\n",
    "print(\"Output:\", result.get_counts().keys())\n",
    "circuit.draw('mpl')"
   ]
  },
  {
   "cell_type": "markdown",
   "id": "1f1da324",
   "metadata": {},
   "source": [
    "Now to verify weather the given numbers represent the sides of the rectangle we have created below functions. This function takes 4 sides as an input and compares them with each other. In total, there will be 6 comparisons:\n",
    "<br>1. a compared to b, c, d\n",
    "<br>2. b compared to c, d\n",
    "<br>3. c compared to d\n",
    "\n",
    "And for a rectangle exactly 2 pairs will match. In another case, if it is a Square, all 6 pairs will return True."
   ]
  },
  {
   "cell_type": "code",
   "execution_count": 15,
   "id": "5a9d2e0d",
   "metadata": {},
   "outputs": [],
   "source": [
    "def is_rectangle(a, b, c, d, bitwise=True):\n",
    "    \"\"\"\n",
    "    Function takes 4 numbers and verifies if those numbers can be the \n",
    "    sides of a rectangle. \n",
    "    parameters: a, b, c, d: 4 sides\n",
    "    returns: '1' if sides represents a rectangle otherwise '0'\n",
    "    \"\"\"\n",
    "    \n",
    "    equal_sides = 0\n",
    "    sides = [a, b, c, d]\n",
    "    \n",
    "    for i, side1 in enumerate(sides):\n",
    "        for side2 in sides[i+1:len(sides)]:\n",
    "            result = compare_sides(side1, side2, bitwise=bitwise)\n",
    "            if result:\n",
    "                equal_sides += 1\n",
    "    \n",
    "    if equal_sides == 2 or equal_sides == 6:\n",
    "        return '1'\n",
    "    else:\n",
    "        return '0'"
   ]
  },
  {
   "cell_type": "markdown",
   "id": "894037df",
   "metadata": {},
   "source": [
    "### Testing"
   ]
  },
  {
   "cell_type": "code",
   "execution_count": 16,
   "id": "12d59708",
   "metadata": {},
   "outputs": [],
   "source": [
    "def is_rectangle_classical(a, b, c, d):\n",
    "    \"\"\"\n",
    "    Function takes 4 numbers and verifies if those numbers can be the \n",
    "    sides of a rectangle. \n",
    "    parameters: a, b, c, d: 4 sides\n",
    "    returns: '1' if sides represents a rectangle otherwise '0'\n",
    "    \"\"\"\n",
    "    \n",
    "    equal_sides = 0\n",
    "    sides = [a, b, c, d]\n",
    "    \n",
    "    for i, side1 in enumerate(sides):\n",
    "        for side2 in sides[i+1:len(sides)]:\n",
    "            if side1 == side2:\n",
    "                equal_sides += 1\n",
    "    \n",
    "    if equal_sides == 2 or equal_sides == 6:\n",
    "        return '1'\n",
    "    else:\n",
    "        return '0'"
   ]
  },
  {
   "cell_type": "code",
   "execution_count": 17,
   "id": "f88618eb",
   "metadata": {},
   "outputs": [],
   "source": [
    "import random\n",
    "\n",
    "def test(num_test):\n",
    "    \n",
    "    success = 0\n",
    "    failure = 0\n",
    "\n",
    "    for i in range(num_test):\n",
    "        sides = list()\n",
    "        for i in range(4):\n",
    "            n = random.randint(1,30)\n",
    "            sides.append(n)\n",
    "\n",
    "        quantum_result = is_rectangle(sides[0], sides[1], sides[2], sides[3])\n",
    "        classical_result = is_rectangle_classical(sides[0], sides[1], sides[2], sides[3])\n",
    "\n",
    "        if quantum_result == classical_result:\n",
    "            success += 1\n",
    "        else:\n",
    "            failure += 1\n",
    "        \n",
    "    return {\"Success\": success, \"Failure\": failure}"
   ]
  },
  {
   "cell_type": "code",
   "execution_count": 18,
   "id": "0bb6d4de",
   "metadata": {},
   "outputs": [
    {
     "data": {
      "text/plain": [
       "{'Success': 1000, 'Failure': 0}"
      ]
     },
     "execution_count": 18,
     "metadata": {},
     "output_type": "execute_result"
    }
   ],
   "source": [
    "test(1000)"
   ]
  },
  {
   "cell_type": "code",
   "execution_count": null,
   "id": "cb0101e7",
   "metadata": {},
   "outputs": [],
   "source": []
  }
 ],
 "metadata": {
  "kernelspec": {
   "display_name": "Python 3 (ipykernel)",
   "language": "python",
   "name": "python3"
  },
  "language_info": {
   "codemirror_mode": {
    "name": "ipython",
    "version": 3
   },
   "file_extension": ".py",
   "mimetype": "text/x-python",
   "name": "python",
   "nbconvert_exporter": "python",
   "pygments_lexer": "ipython3",
   "version": "3.10.9"
  }
 },
 "nbformat": 4,
 "nbformat_minor": 5
}
